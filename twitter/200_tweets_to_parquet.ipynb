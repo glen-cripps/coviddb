{
 "cells": [
  {
   "cell_type": "code",
   "execution_count": 1,
   "metadata": {},
   "outputs": [
    {
     "name": "stdout",
     "output_type": "stream",
     "text": [
      "<_io.TextIOWrapper name='tweets.20200330.json' mode='r' encoding='UTF-8'>\n"
     ]
    }
   ],
   "source": [
    "# %load 200_tweets_to_parquet.py\n",
    "#!/usr/bin/env python3\n",
    "\"\"\"\n",
    "Created on Mon Sep 23 13:52:14 2019\n",
    "\n",
    "@author: hduser\n",
    "\"\"\"\n",
    "import time\n",
    "import arrow\n",
    "today_dt = arrow.now().format('YYYYMMDD')\n",
    "\n",
    "import tarfile\n",
    "import json\n",
    "import os\n",
    "\n",
    "# Comment out code that doesnt need to run every time\n",
    "#tf = tarfile.open(\"geotagged_tweets_20160812-0912.tar.gz\")\n",
    "#tf.extractall()\n",
    "\n",
    "#os.system(\"shuf -n 1000 geotagged_tweets_20160812-0912.jsons > geotagged_tweets_20160812-0912.1000.json\")\n",
    "#os.system(\"shuf -n 5000 geotagged_tweets_20160812-0912.jsons > geotagged_tweets_20160812-0912.5000.jsons\")\n",
    "#os.system(\"shuf -n 10000 geotagged_tweets_20160812-0912.jsons > geotagged_tweets_20160812-0912.10000.jsons\")\n",
    "\n",
    "tweets_data = []\n",
    "tweets_file = open('tweets.' + today_dt + '.json', \"r\")\n",
    "print(tweets_file)\n",
    "from pandas.io.json import json_normalize\n",
    "\n"
   ]
  },
  {
   "cell_type": "code",
   "execution_count": 2,
   "metadata": {},
   "outputs": [
    {
     "name": "stderr",
     "output_type": "stream",
     "text": [
      "/usr/local/lib/python3.6/dist-packages/ipykernel/__main__.py:14: FutureWarning: pandas.io.json.json_normalize is deprecated, use pandas.json_normalize instead\n"
     ]
    }
   ],
   "source": [
    "counter = 0\n",
    "\n",
    "# read 1000 lines of twitter data and then get the columns \n",
    "for line in tweets_file:\n",
    "    counter = counter + 1\n",
    "    if counter > 1000:\n",
    "        break\n",
    "    try:\n",
    "        tweet = json.loads(line)\n",
    "        tweets_data.append(tweet)\n",
    "    except:\n",
    "        continue    \n",
    "        \n",
    "tweets_df = json_normalize(tweets_data)\n",
    "\n"
   ]
  },
  {
   "cell_type": "code",
   "execution_count": 3,
   "metadata": {},
   "outputs": [],
   "source": [
    "# these are the columns I know I want\n",
    "cols = ['created_at',\n",
    "        'place.country','place.country_code','place.name','place.place_type','place.full_name',\n",
    "        'is_quote_status','quoted_status.favorite_count',\n",
    "        'lang','source','text','possibly_sensitive',\n",
    "        'user.created_at','user.description','user.name','user.location','user.verified', \n",
    "        'user.friends_count','user.followers_count']\n",
    "\n",
    "\n",
    "# these are the other columns I want but im too lazy to type them\n",
    "for c in tweets_df.columns:\n",
    "    s = str(c)\n",
    "    if s.find(\"full_text\")>=0:\n",
    "        cols.append(s)\n",
    "    elif s.find(\"screen_name\")>=0:\n",
    "        cols.append(s)\n",
    "\n",
    "# get rid of dups\n",
    "cols = sorted(set(cols))\n",
    "\n",
    "neat_df = tweets_df[cols]"
   ]
  },
  {
   "cell_type": "code",
   "execution_count": null,
   "metadata": {},
   "outputs": [],
   "source": []
  },
  {
   "cell_type": "code",
   "execution_count": 5,
   "metadata": {},
   "outputs": [
    {
     "name": "stderr",
     "output_type": "stream",
     "text": [
      "/usr/local/lib/python3.6/dist-packages/ipykernel/__main__.py:17: FutureWarning: pandas.io.json.json_normalize is deprecated, use pandas.json_normalize instead\n"
     ]
    }
   ],
   "source": [
    "counter = 0\n",
    "\n",
    "for line in tweets_file:\n",
    "    counter = counter + 1\n",
    "    if counter % 10000 == 0:\n",
    "        print(counter)\n",
    "        tweets_df = json_normalize(tweets_data)\n",
    "        neat_df = tweets_df[cols]\n",
    "        neat_df.to_parquet(\"tweets.\" + today_dt + \".{}.parquet\".format(counter), compression='GZIP')\n",
    "        tweets_data = []\n",
    "    try:\n",
    "        tweet = json.loads(line)\n",
    "        tweets_data.append(tweet)\n",
    "    except:\n",
    "        continue\n",
    "\n",
    "tweets_df = json_normalize(tweets_data)\n",
    "neat_df = tweets_df[cols]\n",
    "neat_df.to_parquet(\"tweets.\" + today_dt + \".{}.parquet\".format(counter),compression='GZIP')\n"
   ]
  },
  {
   "cell_type": "code",
   "execution_count": 116,
   "metadata": {},
   "outputs": [],
   "source": []
  },
  {
   "cell_type": "code",
   "execution_count": null,
   "metadata": {},
   "outputs": [],
   "source": []
  },
  {
   "cell_type": "code",
   "execution_count": null,
   "metadata": {},
   "outputs": [],
   "source": []
  },
  {
   "cell_type": "code",
   "execution_count": null,
   "metadata": {},
   "outputs": [],
   "source": []
  },
  {
   "cell_type": "code",
   "execution_count": null,
   "metadata": {},
   "outputs": [],
   "source": []
  },
  {
   "cell_type": "code",
   "execution_count": 6,
   "metadata": {},
   "outputs": [
    {
     "name": "stdout",
     "output_type": "stream",
     "text": [
      "Start of program\n",
      "['tweets.20200330.0.parquet', 'tweets.20200330.2060.parquet']\n"
     ]
    }
   ],
   "source": [
    "# This creates a python list of strings with json data in the string.  there's a lot of fields, and I can either\n",
    "# cherry pick the fields I want, or figure out how to read them all in and subset them once I have them in a nice dataframe\n",
    "\n",
    "import datetime\n",
    "import glob\n",
    "import os\n",
    "from datetime import datetime  \n",
    "from datetime import timedelta \n",
    "\n",
    "\n",
    "print(\"Start of program\")\n",
    "\n",
    "path = ''                     # use your path\n",
    "all_files = glob.glob(os.path.join(path, \"tweets.\" + today_dt + \".*.parquet\"))     # advisable to use os.path.join as this makes concatenation \n",
    "\n",
    "all_files.sort()\n",
    "print(all_files)"
   ]
  },
  {
   "cell_type": "code",
   "execution_count": 7,
   "metadata": {},
   "outputs": [],
   "source": [
    "import pandas as pd\n",
    "pd.options.display.max_columns = None\n",
    "\n",
    "for i,f in enumerate(all_files):\n",
    "    parquet_chunk = pd.read_parquet(f)\n",
    "    if i == 0:\n",
    "        tweets = parquet_chunk\n",
    "    else:\n",
    "        tweets = tweets.append(parquet_chunk, ignore_index=True)\n",
    "\n",
    "tweets.to_parquet(\"tweets_all.\" + today_dt + \".parquet\",compression='gzip')\n"
   ]
  }
 ],
 "metadata": {
  "kernelspec": {
   "display_name": "Python 3 (system-wide)",
   "language": "python",
   "name": "python3"
  },
  "language_info": {
   "codemirror_mode": {
    "name": "ipython",
    "version": 3
   },
   "file_extension": ".py",
   "mimetype": "text/x-python",
   "name": "python",
   "nbconvert_exporter": "python",
   "pygments_lexer": "ipython3",
   "version": "3.6.9"
  }
 },
 "nbformat": 4,
 "nbformat_minor": 1
}
