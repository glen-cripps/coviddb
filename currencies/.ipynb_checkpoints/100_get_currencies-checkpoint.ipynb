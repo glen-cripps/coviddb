{
 "cells": [
  {
   "cell_type": "code",
   "execution_count": 11,
   "metadata": {},
   "outputs": [],
   "source": [
    "import requests \n",
    "import pandas as pd \n",
    "from bs4 import BeautifulSoup\n",
    "\n",
    "import arrow\n",
    "today_dt = arrow.now().format('YYYYMMDD')"
   ]
  },
  {
   "cell_type": "code",
   "execution_count": 13,
   "metadata": {},
   "outputs": [],
   "source": [
    "names=[]\n",
    "prices=[]\n",
    "changes=[]\n",
    "percentChanges=[]\n",
    "marketCaps=[]\n",
    "totalVolumes=[]\n",
    "circulatingSupplys=[]\n",
    " \n",
    "CryptoCurrenciesUrl = \"https://www.finance.yahoo.com/currencies\"\n",
    "r= requests.get(CryptoCurrenciesUrl)\n",
    "data=r.text\n",
    "soup=BeautifulSoup(data)\n",
    " \n",
    "counter = 40\n",
    "for i in range(40, 404, 14):\n",
    "   for listing in soup.find_all('tr', attrs={'data-reactid':i}):\n",
    "      for name in listing.find_all('td', attrs={'data-reactid':i+3}):\n",
    "         names.append(name.text)\n",
    "      for price in listing.find_all('td', attrs={'data-reactid':i+4}):\n",
    "         prices.append(price.text)\n",
    "      for change in listing.find_all('td', attrs={'data-reactid':i+5}):\n",
    "         changes.append(change.text)\n",
    "      for percentChange in listing.find_all('td', attrs={'data-reactid':i+7}):\n",
    "         percentChanges.append(percentChange.text)\n",
    "df = pd.DataFrame({\"names\": names, \"prices\": prices, \"change\": changes, \"pct_change\": percentChanges})"
   ]
  },
  {
   "cell_type": "code",
   "execution_count": 14,
   "metadata": {},
   "outputs": [],
   "source": [
    "df.to_parquet(\"currencies_prices.\" + today_dt + '.parquet')\n"
   ]
  },
  {
   "cell_type": "code",
   "execution_count": null,
   "metadata": {},
   "outputs": [],
   "source": []
  },
  {
   "cell_type": "code",
   "execution_count": null,
   "metadata": {},
   "outputs": [],
   "source": []
  }
 ],
 "metadata": {
  "kernelspec": {
   "display_name": "Python 3 (system-wide)",
   "language": "python",
   "name": "python3"
  },
  "language_info": {
   "codemirror_mode": {
    "name": "ipython",
    "version": 3
   },
   "file_extension": ".py",
   "mimetype": "text/x-python",
   "name": "python",
   "nbconvert_exporter": "python",
   "pygments_lexer": "ipython3",
   "version": "3.6.9"
  }
 },
 "nbformat": 4,
 "nbformat_minor": 1
}
