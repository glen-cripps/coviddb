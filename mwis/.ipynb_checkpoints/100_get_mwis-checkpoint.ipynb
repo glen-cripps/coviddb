{
 "cells": [
  {
   "cell_type": "code",
   "execution_count": null,
   "metadata": {},
   "outputs": [],
   "source": []
  },
  {
   "cell_type": "code",
   "execution_count": null,
   "metadata": {},
   "outputs": [],
   "source": [
    "names=[]\n",
    "prices=[]\n",
    "changes=[]\n",
    "percentChanges=[]\n",
    "marketCaps=[]\n",
    "totalVolumes=[]\n",
    "circulatingSupplys=[]\n",
    " \n",
    "CryptoCurrenciesUrl = \"https://in.finance.yahoo.com/currencies\"\n",
    "r= requests.get(CryptoCurrenciesUrl)\n",
    "data=r.text\n",
    "soup=BeautifulSoup(data)\n",
    " \n",
    "counter = 40\n",
    "for i in range(40, 404, 14):\n",
    "   for listing in soup.find_all('tr', attrs={'data-reactid':i}):\n",
    "      for name in listing.find_all('td', attrs={'data-reactid':i+3}):\n",
    "         names.append(name.text)\n",
    "      for price in listing.find_all('td', attrs={'data-reactid':i+4}):\n",
    "         prices.append(price.text)\n",
    "      for change in listing.find_all('td', attrs={'data-reactid':i+5}):\n",
    "         changes.append(change.text)\n",
    "      for percentChange in listing.find_all('td', attrs={'data-reactid':i+7}):\n",
    "         percentChanges.append(percentChange.text)\n",
    "pd.DataFrame({\"Names\": names, \"Prices\": prices, \"Change\": changes, \"% Change\": percentChanges})"
   ]
  }
 ],
 "metadata": {
  "kernelspec": {
   "display_name": "Python 2 (system-wide)",
   "language": "python",
   "name": "python2"
  },
  "language_info": {
   "codemirror_mode": {
    "name": "ipython",
    "version": 2
   },
   "file_extension": ".py",
   "mimetype": "text/x-python",
   "name": "python",
   "nbconvert_exporter": "python",
   "pygments_lexer": "ipython2",
   "version": "2.7.17"
  }
 },
 "nbformat": 4,
 "nbformat_minor": 1
}
