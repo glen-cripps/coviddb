{
 "cells": [
  {
   "cell_type": "code",
   "execution_count": 12,
   "metadata": {},
   "outputs": [],
   "source": [
    "import feedparser\n",
    "import pandas as pd\n",
    "import time\n",
    "from bs4 import BeautifulSoup\n",
    "from bs4.element import Comment\n",
    "from urllib.request import urlopen\n",
    "import urllib.request as urllib2\n",
    "import io\n",
    "import requests\n",
    "import pandas as pd\n",
    "\n",
    "import time\n",
    "import arrow\n",
    "today_dt = arrow.now().format('YYYYMMDD')\n"
   ]
  },
  {
   "cell_type": "code",
   "execution_count": 13,
   "metadata": {},
   "outputs": [],
   "source": []
  },
  {
   "cell_type": "code",
   "execution_count": 13,
   "metadata": {},
   "outputs": [],
   "source": [
    "def tag_visible(element):\n",
    "    if element.parent.name in ('p','li'):\n",
    "        return True\n",
    "    else:\n",
    "        return False\n",
    "\n",
    "def text_from_html(body):\n",
    "    soup = BeautifulSoup(body, 'html.parser')\n",
    "    texts = soup.findAll(text=True)\n",
    "    visible_texts = filter(tag_visible, texts)\n",
    "    return u\" \".join(t.strip() for t in visible_texts)\n"
   ]
  },
  {
   "cell_type": "code",
   "execution_count": 15,
   "metadata": {},
   "outputs": [
    {
     "name": "stderr",
     "output_type": "stream",
     "text": [
      "/usr/local/lib/python3.6/dist-packages/ipykernel/__main__.py:14: DeprecationWarning: The default dtype for empty Series will be 'object' instead of 'float64' in a future version. Specify a dtype explicitly to silence this warning.\n"
     ]
    },
    {
     "name": "stdout",
     "output_type": "stream",
     "text": [
      "parsing https://news.yahoo.com/in-the-coronavirus-pandemic-carbon-emissions-have-fallen-but-climate-change-remains-an-existential-threat-140002670.html\n",
      "parsing https://news.yahoo.com/york-dad-refused-let-21-150221060.html\n",
      "parsing https://news.yahoo.com/coronavirus-brazils-bolsonaro-denial-limb-113757216.html\n",
      "parsing https://news.yahoo.com/no-farewells-no-ceremonies-chinas-231453221.html\n",
      "parsing https://news.yahoo.com/pelosi-virus-president-fiddles-people-145718051.html\n",
      "parsing https://news.yahoo.com/tucker-carlson-wants-both-ways-084158109.html\n",
      "parsing https://news.yahoo.com/fit-healthy-33-old-recounts-183641193.html\n",
      "parsing https://news.yahoo.com/company-marketing-trendy-n95-masks-122300117.html\n",
      "parsing https://news.yahoo.com/mexicos-president-shifts-tone-coronavirus-084802626.html\n",
      "parsing https://news.yahoo.com/inmate-dies-contracting-coronavirus-louisiana-150800571.html\n",
      "parsing https://news.yahoo.com/iran-warns-lengthy-way-life-virus-deaths-rise-112000500.html\n",
      "parsing https://news.yahoo.com/coronavirus-indias-pm-modi-seeks-123222276.html\n",
      "parsing https://news.yahoo.com/cdc-asks-york-jersey-connecticut-024330970.html\n",
      "parsing https://news.yahoo.com/off-cafe-sweden-outlier-virus-081311922.html\n",
      "parsing https://news.yahoo.com/justice-department-reportedly-investigating-actions-023858970.html\n",
      "parsing https://news.yahoo.com/tornado-tears-arkansas-city-prompting-011431229.html\n",
      "parsing https://news.yahoo.com/york-nurse-shared-chilling-photo-204744928.html\n",
      "parsing https://news.yahoo.com/asia-virus-latest-china-epicentre-starts-reopen-security-064722624.html\n",
      "parsing https://news.yahoo.com/north-korea-says-u-not-103339652.html\n",
      "parsing https://news.yahoo.com/coronavirus-oil-price-collapses-lowest-070802821.html\n",
      "parsing https://news.yahoo.com/poll-15-sanders-supporters-vote-185748015.html\n",
      "parsing https://news.yahoo.com/york-blocks-hospital-policy-forced-003702323.html\n",
      "parsing https://news.yahoo.com/plane-catches-fire-manila-airport-145754876.html\n",
      "parsing https://news.yahoo.com/coronavirus-super-spreader-india-refused-013555779.html\n",
      "parsing https://news.yahoo.com/silent-coronavirus-spreaders-could-unleash-090258457.html\n",
      "parsing https://news.yahoo.com/fauci-says-coronavirus-deaths-could-145901510.html\n",
      "parsing https://news.yahoo.com/kremlin-fights-u-sanctions-backs-030000435.html\n",
      "parsing https://news.yahoo.com/coronavirus-deaths-fall-again-italy-181130952.html\n",
      "parsing https://news.yahoo.com/jersey-man-charged-throwing-corona-064812867.html\n",
      "parsing https://news.yahoo.com/donald-trump-near-tie-joe-124728604.html\n",
      "parsing https://news.yahoo.com/fact-check-coronavirus-being-spread-165320825.html\n",
      "parsing https://news.yahoo.com/south-korea-says-north-korea-234049208.html\n",
      "parsing https://news.yahoo.com/passengers-transferred-virus-stricken-cruise-ship-off-panama-080922565.html\n",
      "parsing https://news.yahoo.com/1-000-bed-us-navy-115700514.html\n",
      "parsing https://news.yahoo.com/coronavirus-zimbabwean-broadcaster-zororo-makamba-011344682.html\n",
      "parsing https://news.yahoo.com/ex-venezuelan-spy-chief-carvajal-172848765.html\n",
      "parsing https://news.yahoo.com/arkansas-doctor-stayed-home-socially-203437794.html\n",
      "parsing https://news.yahoo.com/sanders-still-running-president-heres-181000506.html\n",
      "parsing https://news.yahoo.com/coronavirus-live-updates-us-death-093743203.html\n",
      "parsing https://news.yahoo.com/seaworld-furloughs-90-workers-because-211140536.html\n",
      "parsing https://news.yahoo.com/merkel-back-virus-crisis-boosts-germanys-centre-101044302.html\n",
      "parsing https://news.yahoo.com/detainees-us-immigration-jails-living-060047303.html\n",
      "parsing https://news.yahoo.com/coronavirus-india-defiant-millions-struggle-134543847.html\n",
      "parsing https://news.yahoo.com/trump-boosts-virus-aid-tells-154001667.html\n",
      "parsing https://news.yahoo.com/china-reports-45-coronavirus-cases-002241902.html\n"
     ]
    }
   ],
   "source": [
    "bigdf = pd.DataFrame()\n",
    "\n",
    "news_rss_url = \"https://news.yahoo.com/rss/mostviewed\"\n",
    "#try:\n",
    "resp = requests.get(news_rss_url, timeout=20.0)\n",
    "# Put it to memory stream object universal feedparser\n",
    "content = io.BytesIO(resp.content)\n",
    "# Parse content\n",
    "info = feedparser.parse(content)\n",
    "for entry in info.entries:\n",
    "    try:\n",
    "        html = urllib2.urlopen(entry.link, timeout=20).read()\n",
    "        df = pd.DataFrame(columns=['title','description','link','published','text'])\n",
    "        df = df.append(pd.Series(), ignore_index=True)\n",
    "        df['title'] = entry.title\n",
    "        df['description'] = entry.description\n",
    "        df['link'] = entry.link\n",
    "        print('parsing {}'.format(entry.link))\n",
    "        df['published'] = entry.published\n",
    "        df['text'] = text_from_html(html)\n",
    "        bigdf = bigdf.append(df, ignore_index=True)        \n",
    "    except:\n",
    "        pass\n",
    "\n",
    "    time.sleep(0.5)\n",
    "\n",
    "        \n",
    "#except:\n",
    "#    pass\n"
   ]
  },
  {
   "cell_type": "code",
   "execution_count": 18,
   "metadata": {},
   "outputs": [],
   "source": [
    "bigdf.to_parquet(\"yahoo_most_viewed.\" + today_dt + \".parquet\", compression='GZIP')\n"
   ]
  },
  {
   "cell_type": "code",
   "execution_count": null,
   "metadata": {},
   "outputs": [],
   "source": []
  },
  {
   "cell_type": "code",
   "execution_count": null,
   "metadata": {},
   "outputs": [],
   "source": [
    "# this doesnt work yet.  whatever"
   ]
  },
  {
   "cell_type": "code",
   "execution_count": 19,
   "metadata": {},
   "outputs": [],
   "source": [
    "bigdf = pd.DataFrame()\n",
    "\n",
    "news_rss_url = \"https://news.search.yahoo.com/news/rss?p=motorcycles&c=&eo=UTF-8\"\n",
    "#try:\n",
    "resp = requests.get(news_rss_url, timeout=20.0)\n",
    "# Put it to memory stream object universal feedparser\n",
    "content = io.BytesIO(resp.content)\n",
    "# Parse content\n",
    "info = feedparser.parse(content)\n",
    "for entry in info.entries:\n",
    "    try:\n",
    "        html = urllib2.urlopen(entry.link, timeout=20).read()\n",
    "        df = pd.DataFrame(columns=['title','description','link','published','text'])\n",
    "        df = df.append(pd.Series(), ignore_index=True)\n",
    "        df['title'] = entry.title\n",
    "        df['description'] = entry.description\n",
    "        df['link'] = entry.link\n",
    "        print('parsing {}'.format(entry.link))\n",
    "        df['published'] = entry.published\n",
    "        df['text'] = text_from_html(html)\n",
    "        bigdf = bigdf.append(df, ignore_index=True)        \n",
    "    except:\n",
    "        pass\n",
    "\n",
    "    time.sleep(0.5)\n",
    "\n",
    "        "
   ]
  },
  {
   "cell_type": "code",
   "execution_count": 20,
   "metadata": {},
   "outputs": [
    {
     "data": {
      "text/html": [
       "<div>\n",
       "<style scoped>\n",
       "    .dataframe tbody tr th:only-of-type {\n",
       "        vertical-align: middle;\n",
       "    }\n",
       "\n",
       "    .dataframe tbody tr th {\n",
       "        vertical-align: top;\n",
       "    }\n",
       "\n",
       "    .dataframe thead th {\n",
       "        text-align: right;\n",
       "    }\n",
       "</style>\n",
       "<table border=\"1\" class=\"dataframe\">\n",
       "  <thead>\n",
       "    <tr style=\"text-align: right;\">\n",
       "      <th></th>\n",
       "    </tr>\n",
       "  </thead>\n",
       "  <tbody>\n",
       "  </tbody>\n",
       "</table>\n",
       "</div>"
      ],
      "text/plain": [
       "Empty DataFrame\n",
       "Columns: []\n",
       "Index: []"
      ]
     },
     "execution_count": 20,
     "metadata": {},
     "output_type": "execute_result"
    }
   ],
   "source": [
    "bigdf"
   ]
  },
  {
   "cell_type": "code",
   "execution_count": null,
   "metadata": {},
   "outputs": [],
   "source": []
  },
  {
   "cell_type": "code",
   "execution_count": null,
   "metadata": {},
   "outputs": [],
   "source": []
  }
 ],
 "metadata": {
  "kernelspec": {
   "display_name": "Python 3 (system-wide)",
   "language": "python",
   "name": "python3"
  },
  "language_info": {
   "codemirror_mode": {
    "name": "ipython",
    "version": 3
   },
   "file_extension": ".py",
   "mimetype": "text/x-python",
   "name": "python",
   "nbconvert_exporter": "python",
   "pygments_lexer": "ipython3",
   "version": "3.6.9"
  }
 },
 "nbformat": 4,
 "nbformat_minor": 1
}
