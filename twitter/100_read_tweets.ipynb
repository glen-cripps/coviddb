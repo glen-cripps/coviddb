{
 "cells": [
  {
   "cell_type": "code",
   "execution_count": 5,
   "metadata": {},
   "outputs": [],
   "source": [
    "# %load 100_get_tweets.py\n",
    "#!/usr/bin/env python2\n",
    "\"\"\"\n",
    "Created on Thu Nov 22 11:30:51 2018\n",
    "\n",
    "@author: hduser\n",
    "\"\"\"\n",
    "import time\n",
    "import arrow\n",
    "today_dt = arrow.now().format('YYYYMMDD')\n",
    "\n",
    "\n",
    "# 1 - The purpose of this assignment is to compare the popularity between Python and\n",
    "# JavaScript. We will use 2 days’ worth of Twitter data for this.\n",
    "\n",
    "# 2. The first step is to get access to Twitters API keys, and connect to this streaming API\n",
    "# and download the data. Your instructor will show you how to do this.\n",
    "\n",
    "\n",
    "import json\n",
    "import pandas as pd\n",
    "import matplotlib.pyplot as plt\n",
    "\n",
    "\n",
    "\n",
    "#Import the necessary methods from tweepy library\n",
    "from tweepy.streaming import StreamListener\n",
    "from tweepy import OAuthHandler\n",
    "from tweepy import Stream\n",
    "\n",
    "# Consumer API keys\n",
    "# SJLRRqubA7nUjHIZ3KIJRROBZ (API key)\n",
    "# UO4SYnvwLoy6YIaFtp1YqUUwKJ2u6kAiYplRjhPYbudXuBv6Sl (API secret key)\n",
    "\n",
    "# Access token & access token secret\n",
    "# 17236286-hU70T227xL6lKbUnnz0z6uwSvq0eO2bRFRrED8oFH (Access token)\n",
    "# 6n7V6bXhrAcQsYTOj19Vkoq2wsm5Niuyh3YZc0m456bu4 (Access token secret)\n",
    "# Read and write (Access level)\n",
    "\n",
    "\n",
    "#Variables that contains the user credentials to access Twitter API \n",
    "access_token = \"17236286-hU70T227xL6lKbUnnz0z6uwSvq0eO2bRFRrED8oFH\"\n",
    "access_token_secret = \"6n7V6bXhrAcQsYTOj19Vkoq2wsm5Niuyh3YZc0m456bu4\"\n",
    "consumer_key = \"SJLRRqubA7nUjHIZ3KIJRROBZ\"\n",
    "consumer_secret = \"UO4SYnvwLoy6YIaFtp1YqUUwKJ2u6kAiYplRjhPYbudXuBv6Sl\"\n",
    "\n",
    "    \n"
   ]
  },
  {
   "cell_type": "code",
   "execution_count": null,
   "metadata": {},
   "outputs": [],
   "source": []
  },
  {
   "cell_type": "code",
   "execution_count": 6,
   "metadata": {},
   "outputs": [],
   "source": [
    "\n",
    "\n",
    "#This is a basic listener that just prints received tweets to stdout.\n",
    "class StdOutListener(StreamListener):\n",
    "\n",
    "    def on_data(self, data):\n",
    "        f = open(\"tweets.\" + today_dt + \".json\", \"a\")\n",
    "        f.write(data)\n",
    "        f.close()\n",
    "\n",
    "        return True\n",
    "\n",
    "    def on_error(self, status):\n",
    "        print(status)\n",
    "\n",
    "\n"
   ]
  },
  {
   "cell_type": "code",
   "execution_count": 7,
   "metadata": {},
   "outputs": [],
   "source": [
    "\n",
    "\n",
    "#This handles Twitter authetification and the connection to Twitter Streaming API\n",
    "l = StdOutListener()\n",
    "auth = OAuthHandler(consumer_key, consumer_secret)\n",
    "auth.set_access_token(access_token, access_token_secret)\n",
    "stream = Stream(auth, l)\n",
    "    #This line filter Twitter Streams to capture data by the keywords: 'python', 'javascript', 'ruby'\n"
   ]
  },
  {
   "cell_type": "code",
   "execution_count": null,
   "metadata": {},
   "outputs": [],
   "source": [
    "import time\n",
    "import timeout_decorator\n",
    "\n",
    "@timeout_decorator.timeout(60*3)\n",
    "def read_tweets():\n",
    "    stream.filter(track=['covid', 'coronavirus','covid19','corona virus'])\n",
    "    print(\"%d seconds have passed\" % i)\n",
    "\n",
    "read_tweets()    "
   ]
  },
  {
   "cell_type": "code",
   "execution_count": null,
   "metadata": {},
   "outputs": [],
   "source": []
  }
 ],
 "metadata": {
  "kernelspec": {
   "display_name": "Python 2 (system-wide)",
   "language": "python",
   "name": "python2"
  },
  "language_info": {
   "codemirror_mode": {
    "name": "ipython",
    "version": 2
   },
   "file_extension": ".py",
   "mimetype": "text/x-python",
   "name": "python",
   "nbconvert_exporter": "python",
   "pygments_lexer": "ipython2",
   "version": "2.7.17"
  }
 },
 "nbformat": 4,
 "nbformat_minor": 1
}
